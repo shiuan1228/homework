{
  "cells": [
    {
      "cell_type": "markdown",
      "metadata": {
        "id": "view-in-github",
        "colab_type": "text"
      },
      "source": [
        "<a href=\"https://colab.research.google.com/github/shiuan1228/homework/blob/main/%E4%BD%9C%E6%A5%AD%E4%BA%94.ipynb\" target=\"_parent\"><img src=\"https://colab.research.google.com/assets/colab-badge.svg\" alt=\"Open In Colab\"/></a>"
      ]
    },
    {
      "cell_type": "code",
      "execution_count": 17,
      "metadata": {
        "colab": {
          "base_uri": "https://localhost:8080/"
        },
        "id": "HsndMdGcsSMS",
        "outputId": "7742121a-05ea-4027-f2d5-b9c1268fdabc"
      },
      "outputs": [
        {
          "output_type": "stream",
          "name": "stdout",
          "text": [
            "Two different roots x1=2 , x2=-1\n"
          ]
        }
      ],
      "source": [
        "a=-3\n",
        "b=4\n",
        "c=7\n",
        "if a !=0:   \n",
        "    r = b**2 - 4*a*c    \n",
        "    if r>0:            \n",
        "        x1 = int((b*-1 + r**0.5)/(2*a))    \n",
        "        x2 = int((b*-1 - r**0.5)/(2*a))    \n",
        "        if x1>x2:                         \n",
        "            print(f'Two different roots x1={x1} , x2={x2}')\n",
        "        else:\n",
        "            print(f'Two different roots x1={x2} , x2={x1}')\n",
        "    elif r == 0:\n",
        "        x = int((b*-1 + r**0.5)/(2*a))\n",
        "        print(f'Two same roots x={x}')    \n",
        "    else:     \n",
        "        print('No real root')\n",
        "else:      \n",
        "    print('No real root')"
      ]
    },
    {
      "cell_type": "code",
      "source": [
        "a=5\n",
        "b=-4\n",
        "c=9\n",
        "if a !=0:   \n",
        "    r = b**2 - 4*a*c    \n",
        "    if r>0:            \n",
        "        x1 = int((b*-1 + r**0.5)/(2*a))    \n",
        "        x2 = int((b*-1 - r**0.5)/(2*a))    \n",
        "        if x1>x2:                         \n",
        "            print(f'Two different roots x1={x1} , x2={x2}')\n",
        "        else:\n",
        "            print(f'Two different roots x1={x2} , x2={x1}')\n",
        "    elif r == 0:\n",
        "        x = int((b*-1 + r**0.5)/(2*a))\n",
        "        print(f'Two same roots x={x}')    \n",
        "    else:     \n",
        "        print('No real root')\n",
        "else:      \n",
        "    print('No real root')"
      ],
      "metadata": {
        "colab": {
          "base_uri": "https://localhost:8080/"
        },
        "id": "u4huodyYvX6A",
        "outputId": "a0ba89c9-5b70-4b21-d368-39af8c9f7403"
      },
      "execution_count": 18,
      "outputs": [
        {
          "output_type": "stream",
          "name": "stdout",
          "text": [
            "No real root\n"
          ]
        }
      ]
    }
  ],
  "metadata": {
    "colab": {
      "provenance": [],
      "authorship_tag": "ABX9TyPzCJI/DCqAXvEkMtOQ4P5z",
      "include_colab_link": true
    },
    "kernelspec": {
      "display_name": "Python 3",
      "name": "python3"
    },
    "language_info": {
      "name": "python"
    }
  },
  "nbformat": 4,
  "nbformat_minor": 0
}